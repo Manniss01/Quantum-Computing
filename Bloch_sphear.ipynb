{
 "cells": [
  {
   "cell_type": "code",
   "execution_count": 1,
   "metadata": {},
   "outputs": [],
   "source": [
    "from qiskit import* ## importing the library that necessary for quantum computing \n",
    "from qiskit.tools.visualization import plot_histogram, array_to_latex, Iplot_bloch ## importing visualization tools for quantum computing \n",
    "%matplotlib inline "
   ]
  },
  {
   "cell_type": "code",
   "execution_count": null,
   "metadata": {},
   "outputs": [],
   "source": [
    "#Building first quantum circuit which will consist of the single qubits that will store the value of the measurement in classical bit.\n",
    "\n",
    "qr = QuantumRegister(1)\n",
    "cr = ClassicalRegister(1)\n",
    "circuit = QuantumCircuit(qr,cr)\n",
    "#circuit.h(qr) #H-gate quantum operation \n",
    "#circuit.measure(qr,cr) \n"
   ]
  },
  {
   "cell_type": "code",
   "execution_count": null,
   "metadata": {},
   "outputs": [],
   "source": [
    "simulator = Aer.get_backend(\"statevector_simulator\")\n",
    "result = execute(circuit, backend=simulator).result()\n",
    "statevector = result.get_statevector()\n",
    "array_to_latex(statevector)"
   ]
  }
 ],
 "metadata": {
  "kernelspec": {
   "display_name": "Python 3",
   "language": "python",
   "name": "python3"
  },
  "language_info": {
   "codemirror_mode": {
    "name": "ipython",
    "version": 3
   },
   "file_extension": ".py",
   "mimetype": "text/x-python",
   "name": "python",
   "nbconvert_exporter": "python",
   "pygments_lexer": "ipython3",
   "version": "3.6.2"
  }
 },
 "nbformat": 4,
 "nbformat_minor": 2
}
